{
 "cells": [
  {
   "cell_type": "markdown",
   "metadata": {},
   "source": [
    "# Unit 1 HW\n",
    "\n",
    "The goal of this homework is to give you a clean environment to practice using different function from numpy, pandas, and matplot lib.\n",
    "\n",
    "Note even if you pass all the tests running pytest locally, you will also need to pass all tests that are shown in the remote repo to get a 100 on this homework. You can see this by pushing your code and using your clone link to view the pytest details."
   ]
  },
  {
   "cell_type": "markdown",
   "metadata": {},
   "source": [
    "## Imports\n",
    "\n",
    "Below import the numpy, pandas, and matplotlib plot modules with the nicknames np, pd, and plt. See class notes for reference.\n",
    "\n",
    "You may also want to include this line if you are using vs code: `%matplotlib ipympl`"
   ]
  },
  {
   "cell_type": "code",
   "execution_count": null,
   "metadata": {},
   "outputs": [],
   "source": [
    "# Add your imports here, you will need this for the file to run correctly"
   ]
  },
  {
   "cell_type": "markdown",
   "metadata": {},
   "source": [
    "## Numpy"
   ]
  },
  {
   "cell_type": "code",
   "execution_count": null,
   "metadata": {},
   "outputs": [],
   "source": [
    "def list_to_np_array(input : list):\n",
    "    '''\n",
    "    Returns a numpy array containing the elements of the list\n",
    "\n",
    "    parameter: list | input\n",
    "    return: np_array\n",
    "\n",
    "    Note: You should not have to use a loop to do this\n",
    "    '''\n",
    "    return"
   ]
  },
  {
   "cell_type": "code",
   "execution_count": null,
   "metadata": {},
   "outputs": [],
   "source": [
    "def np_array_of_ones(shape):\n",
    "    '''\n",
    "    Returns a numpy array containing ones in the shape of `shape`\n",
    "\n",
    "    parameter: list | shape\n",
    "    return: np_array\n",
    "\n",
    "    Note: You should not have to use a loop to do this\n",
    "    '''\n",
    "    return"
   ]
  },
  {
   "cell_type": "code",
   "execution_count": null,
   "metadata": {},
   "outputs": [],
   "source": [
    "def get_np_array_shape(array):\n",
    "    '''\n",
    "    Returns the shape of the array\n",
    "\n",
    "    parameter: np array | array\n",
    "    return: shape like\n",
    "\n",
    "    Note: You should not have to use a loop to do this\n",
    "    '''\n",
    "    return"
   ]
  },
  {
   "cell_type": "code",
   "execution_count": null,
   "metadata": {},
   "outputs": [],
   "source": [
    "def create_multi_dimensional_arrays():\n",
    "    '''\n",
    "    Returns a list of arrays\n",
    "\n",
    "    Create a list of arrays with each array having the following dimensions:\n",
    "    Array at index 0: 2, 3, 8, 9\n",
    "    Array at index 1: 4, 2\n",
    "    Array at index 2: 6, 6\n",
    "\n",
    "    return: list of np_arrays\n",
    "\n",
    "    The contents of the array do not matter\n",
    "    '''\n",
    "    return"
   ]
  },
  {
   "cell_type": "code",
   "execution_count": null,
   "metadata": {},
   "outputs": [],
   "source": [
    "def add_to_array(np_array, x):\n",
    "    '''\n",
    "    Returns an array incremented by x\n",
    "\n",
    "    Increment np_array by x \n",
    "    \n",
    "    Note: upon review using a loop will result in a failure\n",
    "    '''"
   ]
  },
  {
   "cell_type": "code",
   "execution_count": null,
   "metadata": {},
   "outputs": [],
   "source": [
    "def subtract_from_array(np_array, x):\n",
    "    pass"
   ]
  },
  {
   "cell_type": "code",
   "execution_count": null,
   "metadata": {},
   "outputs": [],
   "source": [
    "def scale_array(np_array, x):\n",
    "    pass\n",
    "\n"
   ]
  },
  {
   "cell_type": "code",
   "execution_count": null,
   "metadata": {},
   "outputs": [],
   "source": [
    "def change_array_type(np_array, new_type):\n",
    "    pass"
   ]
  },
  {
   "cell_type": "code",
   "execution_count": null,
   "metadata": {},
   "outputs": [],
   "source": [
    "def grab_element_1dim(np_array):\n",
    "    ''' \n",
    "    Grab the 2nd index in the array\n",
    "    '''\n",
    "    pass\n"
   ]
  },
  {
   "cell_type": "code",
   "execution_count": null,
   "metadata": {},
   "outputs": [],
   "source": [
    "def grab_element_2dim(np_array):\n",
    "    pass"
   ]
  },
  {
   "cell_type": "code",
   "execution_count": null,
   "metadata": {},
   "outputs": [],
   "source": [
    "def grab_element_3dim(np_array):\n",
    "    pass\n"
   ]
  },
  {
   "cell_type": "code",
   "execution_count": null,
   "metadata": {},
   "outputs": [],
   "source": [
    "def slice_row(np_array):\n",
    "    pass\n"
   ]
  },
  {
   "cell_type": "markdown",
   "metadata": {},
   "source": [
    "Numpy hidden tests will be ran when your code is pushed up. Hidden tests are meant to be more challenging and may require you to read the documentation. See your lecture notes for resources on documentation. The hidden tests are below"
   ]
  },
  {
   "cell_type": "code",
   "execution_count": null,
   "metadata": {},
   "outputs": [],
   "source": [
    "def is_empty_np():\n",
    "    return"
   ]
  },
  {
   "cell_type": "code",
   "execution_count": null,
   "metadata": {},
   "outputs": [],
   "source": [
    "def is_all_np(x):\n",
    "    return"
   ]
  },
  {
   "cell_type": "code",
   "execution_count": null,
   "metadata": {},
   "outputs": [],
   "source": [
    "def is_any_np(x):\n",
    "    pass"
   ]
  },
  {
   "cell_type": "code",
   "execution_count": null,
   "metadata": {},
   "outputs": [],
   "source": [
    "def write_to_file_np(file_name):\n",
    "    return\n"
   ]
  },
  {
   "cell_type": "code",
   "execution_count": null,
   "metadata": {},
   "outputs": [],
   "source": [
    "def read_from_file_np(file_name):\n",
    "    return"
   ]
  },
  {
   "cell_type": "code",
   "execution_count": null,
   "metadata": {},
   "outputs": [],
   "source": [
    "def find_statistics_np(file_name):\n",
    "    return"
   ]
  },
  {
   "cell_type": "markdown",
   "metadata": {},
   "source": [
    "## Pandas\n"
   ]
  },
  {
   "cell_type": "code",
   "execution_count": null,
   "metadata": {},
   "outputs": [],
   "source": [
    "def create_series(input):\n",
    "    return"
   ]
  },
  {
   "cell_type": "code",
   "execution_count": null,
   "metadata": {},
   "outputs": [],
   "source": [
    "def create_data_frame(input):\n",
    "    return"
   ]
  },
  {
   "cell_type": "code",
   "execution_count": null,
   "metadata": {},
   "outputs": [],
   "source": [
    "def categorize_data_frame(data):\n",
    "    return\n",
    "    "
   ]
  },
  {
   "cell_type": "code",
   "execution_count": null,
   "metadata": {},
   "outputs": [],
   "source": [
    "def get_all_categories(data_frame):\n",
    "    return"
   ]
  },
  {
   "cell_type": "code",
   "execution_count": null,
   "metadata": {},
   "outputs": [],
   "source": [
    "def get_category(category, data_frame):\n",
    "    return"
   ]
  },
  {
   "cell_type": "code",
   "execution_count": null,
   "metadata": {},
   "outputs": [],
   "source": [
    "def get_category_data(data_frame):\n",
    "    return"
   ]
  },
  {
   "cell_type": "markdown",
   "metadata": {},
   "source": [
    "Pandas hidden tests will be ran when your code is pushed up. Hidden tests are meant to be more challenging and may require you to read the documentation. See your lecture notes for resources on documentation. The hidden tests are below"
   ]
  },
  {
   "cell_type": "code",
   "execution_count": null,
   "metadata": {},
   "outputs": [],
   "source": [
    "def transpose_df(data_frame):\n",
    "    return"
   ]
  },
  {
   "cell_type": "code",
   "execution_count": null,
   "metadata": {},
   "outputs": [],
   "source": [
    "def reindex_data(data_frame):\n",
    "    return"
   ]
  },
  {
   "cell_type": "code",
   "execution_count": null,
   "metadata": {},
   "outputs": [],
   "source": [
    "def find_data_values(data_frame):\n",
    "    return"
   ]
  },
  {
   "cell_type": "code",
   "execution_count": null,
   "metadata": {},
   "outputs": [],
   "source": [
    "def find_data_values_2(data_frame):\n",
    "    ''' This one is to '''\n",
    "    return"
   ]
  },
  {
   "cell_type": "markdown",
   "metadata": {},
   "source": [
    "## Matplotlib\n",
    "\n",
    "This section is a little different, there will be data give to you and your goal is to match a given plot. There will be a few pytest checks to help, but your overall grade will be based on how well it visually matches."
   ]
  },
  {
   "cell_type": "code",
   "execution_count": null,
   "metadata": {},
   "outputs": [],
   "source": [
    "'''\n",
    "Create a plot with:\n",
    "\n",
    "Data in red \n",
    "Data as x's\n",
    "With a title\n",
    "With x axis label\n",
    "With y axis label\n",
    "\n",
    "'''\n"
   ]
  },
  {
   "cell_type": "code",
   "execution_count": null,
   "metadata": {},
   "outputs": [],
   "source": [
    "'''\n",
    "Create a plot with:\n",
    "Data series 1 in green, as a bar chart\n",
    "Data series 2 in red, as circles\n",
    "With a title\n",
    "With x axis label\n",
    "With y axis label\n",
    "With a legend\n",
    "With y ticks constrained\n",
    "'''"
   ]
  }
 ],
 "metadata": {
  "language_info": {
   "name": "python"
  }
 },
 "nbformat": 4,
 "nbformat_minor": 2
}
