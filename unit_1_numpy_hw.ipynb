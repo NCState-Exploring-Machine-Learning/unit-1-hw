{
 "cells": [
  {
   "cell_type": "markdown",
   "metadata": {},
   "source": [
    "# Unit 1 HW - Numpy\n",
    "\n",
    "The goal of this homework is to give you a clean environment to practice using different function from numpy.\n",
    "\n",
    "Note even if you pass all the tests running pytest locally, you will also need to pass all tests that are shown in the homework file to get a 100 on this homework. Please see secret test acknowledgement for more info."
   ]
  },
  {
   "cell_type": "markdown",
   "metadata": {},
   "source": [
    "## Imports\n",
    "\n",
    "Below import the numpy, with the alias np. See class notes for reference."
   ]
  },
  {
   "cell_type": "code",
   "execution_count": 1,
   "metadata": {},
   "outputs": [],
   "source": [
    "# Add your imports here, you will need this for the file to run correctly"
   ]
  },
  {
   "cell_type": "markdown",
   "metadata": {},
   "source": [
    "## Numpy"
   ]
  },
  {
   "cell_type": "code",
   "execution_count": 2,
   "metadata": {},
   "outputs": [],
   "source": [
    "def list_to_np_array(input : list):\n",
    "    '''\n",
    "    Returns a numpy array containing the elements of the list\n",
    "\n",
    "    parameter: list | input\n",
    "    return: np_array\n",
    "\n",
    "    Note: You should not have to use a loop to do this\n",
    "    '''\n",
    "\n",
    "    return"
   ]
  },
  {
   "cell_type": "code",
   "execution_count": 3,
   "metadata": {},
   "outputs": [],
   "source": [
    "\n",
    "def np_array_of_ones(shape):\n",
    "    '''\n",
    "    Returns a numpy array containing ones in the shape of `shape`\n",
    "\n",
    "    parameter: list | shape\n",
    "    return: np_array\n",
    "\n",
    "    Note: You should not have to use a loop to do this\n",
    "    '''\n",
    "    return"
   ]
  },
  {
   "cell_type": "code",
   "execution_count": 4,
   "metadata": {},
   "outputs": [],
   "source": [
    "def get_np_array_shape(array):\n",
    "    '''\n",
    "    Returns the shape of the array\n",
    "\n",
    "    parameter: np array | array\n",
    "    return: shape like\n",
    "\n",
    "    Note: You should not have to use a loop to do this\n",
    "    '''\n",
    "    return"
   ]
  },
  {
   "cell_type": "code",
   "execution_count": 5,
   "metadata": {},
   "outputs": [],
   "source": [
    "def create_multi_dimensional_arrays():\n",
    "    '''\n",
    "    Returns a list of arrays\n",
    "\n",
    "    Create a list of arrays with each array having the following dimensions:\n",
    "    Array at index 0: 2, 3, 8, 9\n",
    "    Array at index 1: 4, 2\n",
    "    Array at index 2: 6, 6\n",
    "\n",
    "    return: list of np_arrays\n",
    "\n",
    "    The contents of the array do not matter\n",
    "    '''\n",
    "    return"
   ]
  },
  {
   "cell_type": "code",
   "execution_count": 6,
   "metadata": {},
   "outputs": [],
   "source": [
    "def add_to_array(np_array, x):\n",
    "    '''\n",
    "    Returns an array incremented by x\n",
    "\n",
    "    Increment np_array by x \n",
    "\n",
    "    parameter: np array | array\n",
    "    parameter: number | x\n",
    "    return: np array\n",
    "    \n",
    "    Note: upon review using a loop will result in a failure\n",
    "    '''\n",
    "\n",
    "    return"
   ]
  },
  {
   "cell_type": "code",
   "execution_count": 7,
   "metadata": {},
   "outputs": [],
   "source": [
    "def subtract_from_array(np_array, x):\n",
    "    '''\n",
    "    Returns an array decremented by x\n",
    "\n",
    "    Decrement np_array by x \n",
    "\n",
    "    parameter: np array | array\n",
    "    parameter: number | x\n",
    "    return: np array\n",
    "    \n",
    "    Note: upon review using a loop will result in a failure\n",
    "    '''\n",
    "    return"
   ]
  },
  {
   "cell_type": "code",
   "execution_count": 8,
   "metadata": {},
   "outputs": [],
   "source": [
    "def scale_array(np_array, x):\n",
    "    '''\n",
    "    Returns an array scaled by x\n",
    "\n",
    "    Scale np_array by x (multiply): this is a scalar multiply\n",
    "\n",
    "    parameter: np array | array\n",
    "    parameter: number | x\n",
    "    return: np array\n",
    "    \n",
    "    Note: upon review using a loop will result in a failure\n",
    "    '''\n",
    "    return"
   ]
  },
  {
   "cell_type": "code",
   "execution_count": 9,
   "metadata": {},
   "outputs": [],
   "source": [
    "def grab_element_1dim(np_array):\n",
    "    ''' \n",
    "    Return the element at the 2nd index in the array\n",
    "\n",
    "    parameter: 1 dimensional np array | np_array\n",
    "    return: number\n",
    "\n",
    "    Note: Python index starting at 0\n",
    "\n",
    "    '''\n",
    "    return"
   ]
  },
  {
   "cell_type": "code",
   "execution_count": 10,
   "metadata": {},
   "outputs": [],
   "source": [
    "def grab_element_2dim(np_array):\n",
    "    ''' \n",
    "    Return the value at the 3rd row and 5th column of the np array\n",
    "\n",
    "    parameter: 2 dimensional np array | np_array\n",
    "    return: number\n",
    "    Hint: 3rd row and 5th column do not mean index 3 and 5\n",
    "    we index by 0 in python\n",
    "    '''\n",
    "    return"
   ]
  },
  {
   "cell_type": "code",
   "execution_count": 11,
   "metadata": {},
   "outputs": [],
   "source": [
    "def slice_row(np_array):\n",
    "    ''' \n",
    "    Return the first 3 rows of the array\n",
    "\n",
    "    parameter: 2 dimensional np array | np_array\n",
    "    return: np array\n",
    "\n",
    "    Hint: The word first does not mean start at index 1.\n",
    "    '''\n",
    "    return"
   ]
  },
  {
   "cell_type": "markdown",
   "metadata": {},
   "source": [
    "# Secret Tests Acknowledgement\n",
    "\n",
    "The above functions are tested locally -  tests that you can check on your local machine. When running pytest locally this may appear like you are passing with 100% however, you must complete all functions in this notebooks successfully to receive a 100. Secret tests will be graded on the instructor side.\n",
    "\n",
    "These secret tests are experimental and I will need you to act as a beta tester. If you feel you have answered the question correctly and are unsatisfied with your score please contact your instructor.\n",
    "\n",
    "Please acknowledge the secret test below."
   ]
  },
  {
   "cell_type": "code",
   "execution_count": null,
   "metadata": {},
   "outputs": [],
   "source": [
    "def secret_tests_acknowledgement():\n",
    "    '''\n",
    "    Please have this function return True to indicate\n",
    "    you acknowledge the Secret Test Acknowledgement\n",
    "    Statement.\n",
    "    '''\n",
    "    return"
   ]
  },
  {
   "cell_type": "markdown",
   "metadata": {},
   "source": [
    "# Secret Tests"
   ]
  },
  {
   "cell_type": "code",
   "execution_count": 12,
   "metadata": {},
   "outputs": [],
   "source": [
    "def is_all_np(np_array, x):\n",
    "    '''\n",
    "    Returns True if every value in the array is x, otherwise False\n",
    "    \n",
    "    parameter: number | x\n",
    "    parameter: np array | np_array\n",
    "    return bool\n",
    "    '''\n",
    "\n",
    "    return"
   ]
  },
  {
   "cell_type": "code",
   "execution_count": 13,
   "metadata": {},
   "outputs": [],
   "source": [
    "def is_any_np(np_array, x):\n",
    "    '''\n",
    "    Returns True if any value in the array is x, otherwise False\n",
    "    \n",
    "    parameter: number | x\n",
    "    parameter: np array | np_array\n",
    "    return bool\n",
    "    '''\n",
    "    return\n",
    "    "
   ]
  },
  {
   "cell_type": "code",
   "execution_count": 14,
   "metadata": {},
   "outputs": [],
   "source": [
    "\n",
    "def write_to_file_np(file_name, data):\n",
    "    '''\n",
    "    Creates a file with the file name file_name, then populate the\n",
    "    file with the data provided in this function. Numpy functions\n",
    "    should be utilized for this problem. This should handle if\n",
    "    the filename contains a relative path. This should write\n",
    "    over an existing file. The file name will include a .csv\n",
    "    file extension.\n",
    "\n",
    "    The delimiter in your file should be a comma.\n",
    "    The data type should be a np.int32\n",
    "    Optional: Remove the scientific notation of the data saved\n",
    "    to the file.\n",
    "\n",
    "    parameter: string | file_name\n",
    "    parameter: list | data\n",
    "    return: None\n",
    "    output: file\n",
    "    \n",
    "    '''\n",
    "    pass\n"
   ]
  },
  {
   "cell_type": "code",
   "execution_count": 15,
   "metadata": {},
   "outputs": [],
   "source": [
    "def read_from_file_np(file_name):\n",
    "    '''\n",
    "    Read and return the data from the file specified at file_name\n",
    "    Look at the data provided in the test_files folder, what shapes\n",
    "    do you expect the data to be in? What delimiter should you use?\n",
    "\n",
    "    There are also hidden files you cannot see for this test. They will share the\n",
    "    same formatting as the test files that are visible\n",
    "\n",
    "    parameter: string | file_name - test_read_1.csv, test_read_2.csv, and more\n",
    "    return np_array\n",
    "\n",
    "    '''\n",
    "    return"
   ]
  },
  {
   "cell_type": "code",
   "execution_count": 16,
   "metadata": {},
   "outputs": [],
   "source": [
    "def find_statistics_np(file_name):\n",
    "    '''\n",
    "    Using the read functionality you made above, read the data specified at the file name above.\n",
    "\n",
    "    Take the average and variance of each column listed above. Package the average and variance into\n",
    "    a tuple. Each column getting its own tuple. Then put each tuple in a list like below.\n",
    "\n",
    "    Round the mean and variance to 3 decimal points\n",
    "\n",
    "    [(mean, var), (mean, var), (mean, var)]\n",
    "\n",
    "    parameter: string | file_name\n",
    "    return list of tuples\n",
    "    \n",
    "    '''\n",
    "    return\n"
   ]
  }
 ],
 "metadata": {
  "kernelspec": {
   "display_name": ".venv",
   "language": "python",
   "name": "python3"
  },
  "language_info": {
   "codemirror_mode": {
    "name": "ipython",
    "version": 3
   },
   "file_extension": ".py",
   "mimetype": "text/x-python",
   "name": "python",
   "nbconvert_exporter": "python",
   "pygments_lexer": "ipython3",
   "version": "3.11.9"
  }
 },
 "nbformat": 4,
 "nbformat_minor": 2
}
