{
 "cells": [
  {
   "cell_type": "markdown",
   "metadata": {},
   "source": [
    "# Unit 1 HW - Numpy\n",
    "\n",
    "The goal of this homework is to give you a clean environment to practice using different function from numpy.\n",
    "\n",
    "Note even if you pass all the tests running pytest locally, you will also need to pass all tests that are shown in the remote repo to get a 100 on this homework. You can see this by pushing your code and using your clone link to view the pytest details."
   ]
  },
  {
   "cell_type": "markdown",
   "metadata": {},
   "source": [
    "## Imports\n",
    "\n",
    "Below import the numpy, with the alias np. See class notes for reference."
   ]
  },
  {
   "cell_type": "code",
   "execution_count": null,
   "metadata": {},
   "outputs": [],
   "source": [
    "# Add your imports here, you will need this for the file to run correctly"
   ]
  },
  {
   "cell_type": "markdown",
   "metadata": {},
   "source": [
    "## Numpy"
   ]
  },
  {
   "cell_type": "code",
   "execution_count": null,
   "metadata": {},
   "outputs": [],
   "source": [
    "def list_to_np_array(input : list):\n",
    "    '''\n",
    "    Returns a numpy array containing the elements of the list\n",
    "\n",
    "    parameter: list | input\n",
    "    return: np_array\n",
    "\n",
    "    Note: You should not have to use a loop to do this\n",
    "    '''\n",
    "    return"
   ]
  },
  {
   "cell_type": "code",
   "execution_count": null,
   "metadata": {},
   "outputs": [],
   "source": [
    "def np_array_of_ones(shape):\n",
    "    '''\n",
    "    Returns a numpy array containing ones in the shape of `shape`\n",
    "\n",
    "    parameter: list | shape\n",
    "    return: np_array\n",
    "\n",
    "    Note: You should not have to use a loop to do this\n",
    "    '''\n",
    "    return"
   ]
  },
  {
   "cell_type": "code",
   "execution_count": null,
   "metadata": {},
   "outputs": [],
   "source": [
    "def get_np_array_shape(array):\n",
    "    '''\n",
    "    Returns the shape of the array\n",
    "\n",
    "    parameter: np array | array\n",
    "    return: shape like\n",
    "\n",
    "    Note: You should not have to use a loop to do this\n",
    "    '''\n",
    "    return"
   ]
  },
  {
   "cell_type": "code",
   "execution_count": null,
   "metadata": {},
   "outputs": [],
   "source": [
    "def create_multi_dimensional_arrays():\n",
    "    '''\n",
    "    Returns a list of arrays\n",
    "\n",
    "    Create a list of arrays with each array having the following dimensions:\n",
    "    Array at index 0: 2, 3, 8, 9\n",
    "    Array at index 1: 4, 2\n",
    "    Array at index 2: 6, 6\n",
    "\n",
    "    return: list of np_arrays\n",
    "\n",
    "    The contents of the array do not matter\n",
    "    '''\n",
    "    return"
   ]
  },
  {
   "cell_type": "code",
   "execution_count": null,
   "metadata": {},
   "outputs": [],
   "source": [
    "def add_to_array(np_array, x):\n",
    "    '''\n",
    "    Returns an array incremented by x\n",
    "\n",
    "    Increment np_array by x \n",
    "\n",
    "    parameter: np array | array\n",
    "    parameter: number | x\n",
    "    return: np array\n",
    "    \n",
    "    Note: upon review using a loop will result in a failure\n",
    "    '''"
   ]
  },
  {
   "cell_type": "code",
   "execution_count": null,
   "metadata": {},
   "outputs": [],
   "source": [
    "def subtract_from_array(np_array, x):\n",
    "    '''\n",
    "    Returns an array decremented by x\n",
    "\n",
    "    Decrement np_array by x \n",
    "\n",
    "    parameter: np array | array\n",
    "    parameter: number | x\n",
    "    return: np array\n",
    "    \n",
    "    Note: upon review using a loop will result in a failure\n",
    "    '''\n",
    "    return"
   ]
  },
  {
   "cell_type": "code",
   "execution_count": null,
   "metadata": {},
   "outputs": [],
   "source": [
    "def scale_array(np_array, x):\n",
    "    '''\n",
    "    Returns an array scaled by x\n",
    "\n",
    "    Scale np_array by x (multiply) this is a scalar multiply\n",
    "\n",
    "    parameter: np array | array\n",
    "    parameter: number | x\n",
    "    return: np array\n",
    "    \n",
    "    Note: upon review using a loop will result in a failure\n",
    "    '''"
   ]
  },
  {
   "cell_type": "code",
   "execution_count": null,
   "metadata": {},
   "outputs": [],
   "source": [
    "def change_array_type(np_array, new_type):\n",
    "    '''\n",
    "    Returns an array with the elements as a new type\n",
    "    \n",
    "    parameter: np array | np_array\n",
    "    parameter: type | new_type\n",
    "    return: np array\n",
    "    '''\n",
    "    return"
   ]
  },
  {
   "cell_type": "code",
   "execution_count": null,
   "metadata": {},
   "outputs": [],
   "source": [
    "def grab_element_1dim(np_array):\n",
    "    ''' \n",
    "    Return the element at the 2nd index in the array\n",
    "\n",
    "    parameter: 1 dimensional np array | np_array\n",
    "    return: number\n",
    "\n",
    "    Note: Python index starting at 0\n",
    "\n",
    "    '''\n",
    "    return"
   ]
  },
  {
   "cell_type": "code",
   "execution_count": null,
   "metadata": {},
   "outputs": [],
   "source": [
    "def grab_element_2dim(np_array):\n",
    "    ''' \n",
    "    Return the value at the 3rd row and 5th column of the np array\n",
    "\n",
    "    parameter: 2 dimensional np array | np_array\n",
    "    return: number\n",
    "\n",
    "    '''\n",
    "    return"
   ]
  },
  {
   "cell_type": "code",
   "execution_count": null,
   "metadata": {},
   "outputs": [],
   "source": [
    "def slice_row(np_array):\n",
    "    ''' \n",
    "    Return the first row of the array\n",
    "\n",
    "    parameter: 2 dimensional np array | np_array\n",
    "    return: np array\n",
    "\n",
    "    Hint: The word first does not mean index 1.\n",
    "    '''\n",
    "    return"
   ]
  },
  {
   "cell_type": "markdown",
   "metadata": {},
   "source": [
    "Numpy hidden tests will be ran when your code is pushed up. Hidden tests are meant to be more challenging and may require you to read the documentation. See your lecture notes for resources on documentation. The hidden tests are below"
   ]
  },
  {
   "cell_type": "code",
   "execution_count": null,
   "metadata": {},
   "outputs": [],
   "source": [
    "def is_empty_np(np_array):\n",
    "    '''\n",
    "    Returns if a an array is empty\n",
    "\n",
    "    parameter: np array | np_array\n",
    "    return bool - True if empty, False is not empty   \n",
    "    '''\n",
    "    return"
   ]
  },
  {
   "cell_type": "code",
   "execution_count": null,
   "metadata": {},
   "outputs": [],
   "source": [
    "def is_all_np(x):\n",
    "    '''\n",
    "    Returns True if every value in the array is x, otherwise False\n",
    "    \n",
    "    parameter: number | x\n",
    "    return bool\n",
    "    '''\n",
    "\n",
    "    return"
   ]
  },
  {
   "cell_type": "code",
   "execution_count": null,
   "metadata": {},
   "outputs": [],
   "source": [
    "def is_any_np(x):\n",
    "    '''\n",
    "    Returns True if any value in the array is x, otherwise False\n",
    "    \n",
    "    parameter: number | x\n",
    "    return bool\n",
    "    '''\n",
    "    pass"
   ]
  },
  {
   "cell_type": "code",
   "execution_count": null,
   "metadata": {},
   "outputs": [],
   "source": [
    "def write_to_file_np(file_name):\n",
    "    '''\n",
    "    Creates a file with the file name file_name, then populate the\n",
    "    file with the data provided in this function. Numpy functions\n",
    "    should be utilized for this problem. This should handle if\n",
    "    the filename contains a relative path. \n",
    "\n",
    "    parameter: string | file_name\n",
    "    return: None\n",
    "    output: file\n",
    "    \n",
    "    '''\n",
    "    data = []\n",
    "\n",
    "    return\n"
   ]
  },
  {
   "cell_type": "code",
   "execution_count": null,
   "metadata": {},
   "outputs": [],
   "source": [
    "def read_from_file_np(file_name):\n",
    "    '''\n",
    "    Read and return the data from the file specified at file_name\n",
    "    Look at the data provided in the test_data folder, what shapes\n",
    "    do you expect the data to be in?\n",
    "    \n",
    "    '''\n",
    "    return"
   ]
  },
  {
   "cell_type": "code",
   "execution_count": null,
   "metadata": {},
   "outputs": [],
   "source": [
    "def find_statistics_np(file_name):\n",
    "    '''\n",
    "    Using the read functionality you made above, read the data specified at the file name above.\n",
    "\n",
    "    Take the average and variance of each column listed above. Package the average and variance into\n",
    "    a tuple. Each column getting its own tuple. Then put each tuple in a list like below.\n",
    "\n",
    "    [(mean, var), (mean, var), (mean, var)]\n",
    "\n",
    "    parameter: string | file_name\n",
    "    return list of tuples\n",
    "    \n",
    "    '''\n",
    "    return"
   ]
  }
 ],
 "metadata": {
  "language_info": {
   "name": "python"
  }
 },
 "nbformat": 4,
 "nbformat_minor": 2
}
